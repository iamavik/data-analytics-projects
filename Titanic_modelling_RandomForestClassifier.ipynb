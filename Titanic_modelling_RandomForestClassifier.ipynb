{
 "cells": [
  {
   "cell_type": "code",
   "execution_count": 4,
   "metadata": {},
   "outputs": [
    {
     "name": "stdout",
     "output_type": "stream",
     "text": [
      "28.0\n",
      "[0 0 1 1 1 0 0 0 0 0 1 0 1 1 1 1 0 0 1 0 0 0 1 0 1 0 1 0 0 1 0 0 1 1 0 0 1\n",
      " 0 0 1 0 1 0 1 1 0 0 1 1 1 0 0 1 1 0 0 0 0 1 1 0 0 0 1 1 1 0 0 0 1 1 0 0 0\n",
      " 1 1 1 1 0 1 1 0 1 1 0 1 1 0 1 1 1 1 1 1 1 0 1 0 0 0 1 0 1 0 1 0 0 1 1 0 0\n",
      " 1 1 0 1 0 1 1 1 1 1 1 1 0 1 1 0 1 0 0 0 0 1 1 0 0 0 0 1 0 0 1 0 0 1 0 1 0\n",
      " 1 0 1 1 0 1 1 0 1 1 1 1 1 0 0 1 0 1 1 0 1 1 1 1 0 1 0 1 1 0 1 1 0 0 1 1 1\n",
      " 0 1 0 1 0 0 1 0 0 1 0 1 0 0 1 1 1 0 1 0 1 1 0 1 0 0 1 0 0 1 1 1 0 1 1 1 0\n",
      " 1 0 1 1 0 1 0 0 0 1 0 1 0 0 0 0 1 1 1 1 0 1 1 0 1 0 1 1 1 0 1 0 0 1 1 0 1\n",
      " 0 0 0 1 1 0 1 1 1 1 0 0 1 1 1 1 1 0 0 0 0 1 1 1 0 0 0 1 0 1 1 1 0 1 0 0 0\n",
      " 1 1 0 0 0 0 0 0 1 1 0 1 0 0 0 0 1 0 1 1 0 0 1 0 0 0 0 0 1 0 1 0 0 0 1 0 1\n",
      " 1 1 0 0 0 0 1 0 0 1 1 1 1 0 1 0 1 1 0 0 0 1 0 1 1 1 0 0 1 1 1 0 1 1 1 1 0\n",
      " 0 1 1 0 1 1 1 0 0 0 1 0 1 1 0 1 0 0 0 1 1 1 1 0 0 1 0 1 0 0 1 0 1 1 1 0 0\n",
      " 0 1 0 1 1 1 1 1 0 1 1]\n",
      "418\n",
      "Accuracy is in %\n",
      "73.68421052631578\n"
     ]
    }
   ],
   "source": [
    "import numpy as np\n",
    "import pandas as pd\n",
    "from sklearn.ensemble import RandomForestClassifier\n",
    "from sklearn.model_selection import train_test_split\n",
    "pd.options.mode.chained_assignment=None\n",
    "Train_data=pd.read_csv(\"C:/Users/avik/Desktop/Notebooks/train.csv\")\n",
    "data_input=pd.DataFrame(Train_data[['Pclass','Age','Sex']])\n",
    "\n",
    "median1=data_input['Age'].median()\n",
    "print (median1)\n",
    "data_input['Age'].fillna(median1,inplace=True)\n",
    "#print (data_input['Age'])\n",
    "data_input['Sex']=np.where(data_input['Sex']=='female',0,1)\n",
    "#print (data_input['Sex'])\n",
    "expected_output=Train_data['Survived']\n",
    "rf=RandomForestClassifier(n_estimators=100)\n",
    "rf.fit(data_input,expected_output)\n",
    "test_data1=pd.read_csv(\"C:/Users/avik/Desktop/Notebooks/test.csv\")\n",
    "data_output=pd.DataFrame(test_data1[['Pclass','Age','Sex']])\n",
    "median2=data_output['Age'].median()\n",
    "data_output['Age'].fillna(median2,inplace=True)\n",
    "data_output['Sex']=np.where(data_output['Sex']=='female',0,1)\n",
    "test_data2=pd.read_csv(\"C:/Users/avik/Desktop/Notebooks/gender_submission.csv\")\n",
    "expected_test_data=test_data2['Survived']\n",
    "pred=rf.predict(data_output)\n",
    "print (pred)\n",
    "print (len(pred))\n",
    "accuracy=rf.score(data_output,expected_test_data)\n",
    "\n",
    "\n",
    "print (\"Accuracy is in %\")\n",
    "print (accuracy*100)\n",
    "\n"
   ]
  },
  {
   "cell_type": "code",
   "execution_count": null,
   "metadata": {
    "collapsed": true
   },
   "outputs": [],
   "source": []
  },
  {
   "cell_type": "code",
   "execution_count": null,
   "metadata": {
    "collapsed": true
   },
   "outputs": [],
   "source": []
  }
 ],
 "metadata": {
  "kernelspec": {
   "display_name": "Python 3",
   "language": "python",
   "name": "python3"
  },
  "language_info": {
   "codemirror_mode": {
    "name": "ipython",
    "version": 3
   },
   "file_extension": ".py",
   "mimetype": "text/x-python",
   "name": "python",
   "nbconvert_exporter": "python",
   "pygments_lexer": "ipython3",
   "version": "3.7.2"
  }
 },
 "nbformat": 4,
 "nbformat_minor": 2
}
